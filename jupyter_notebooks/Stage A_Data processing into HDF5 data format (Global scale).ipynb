{
 "cells": [
  {
   "cell_type": "markdown",
   "metadata": {},
   "source": [
    "## 1. Import Python Libraries "
   ]
  },
  {
   "cell_type": "code",
   "execution_count": 1,
   "metadata": {},
   "outputs": [],
   "source": [
    "import os\n",
    "import json\n",
    "import h5py\n",
    "import datetime\n",
    "\n",
    "import numpy as np\n",
    "import pandas as pd"
   ]
  },
  {
   "cell_type": "markdown",
   "metadata": {},
   "source": [
    "## 2. Define global variables "
   ]
  },
  {
   "cell_type": "markdown",
   "metadata": {},
   "source": [
    "### 2.1. Define date range for data extractions and collations "
   ]
  },
  {
   "cell_type": "code",
   "execution_count": 3,
   "metadata": {},
   "outputs": [],
   "source": [
    "sdate = datetime.datetime(2020, 5, 1) ## DEFINE YOUR DESIRED ENDING DATE FOR DATA EXTRACTION AND COLLATION\n",
    "edate = datetime.datetime(2021, 10, 1) ## DEFINE YOUR DESIRED ENDING DATE FOR DATA EXTRACTION AND COLLATION\n",
    "\n",
    "delta = edate - sdate\n",
    "final_datetimes_list = list()\n",
    "for i in range(delta.days+1):\n",
    "    day = sdate + datetime.timedelta(days=i)    \n",
    "    month = day.month\n",
    "    days = day.day\n",
    "    year = day.year\n",
    "    if len(str(month)) == 1:\n",
    "        month = '0' + str(month)\n",
    "    if len(str(days)) == 1:\n",
    "        days = '0' + str(days)\n",
    "    final_datetime = str(year) + '-' + str(month) + '-' + str(days)\n",
    "    final_datetimes_list.append(final_datetime)"
   ]
  },
  {
   "cell_type": "markdown",
   "metadata": {},
   "source": [
    "### 2.2. Define moving average (MA) & multi-time steps (S) for analysis "
   ]
  },
  {
   "cell_type": "code",
   "execution_count": 2,
   "metadata": {},
   "outputs": [],
   "source": [
    "MA_day_list = [1,3,5,7] ## DEFINE 1, 3, 5, and 7 days MOVING AVERAGE (MA) "
   ]
  },
  {
   "cell_type": "code",
   "execution_count": 4,
   "metadata": {},
   "outputs": [],
   "source": [
    "starting_date = '2020-05-01'\n",
    "ending_date = '2021-10-01'\n",
    "multi_time_steps = [1,3,5,7,9] ## DEFINE 1, 3, 5, 7 and 9 days MULTI-TIME STEPS (S) \n",
    "fixed_lead_time = 1\n",
    "\n",
    "full_scenario_multi_time_dict = dict()\n",
    "for multi_time_value in multi_time_steps:\n",
    "    \n",
    "    modelled_date_multi_dates = dict()    \n",
    "    for datetime_item in final_datetimes_list:\n",
    "        d1 = datetime.datetime.strptime(datetime_item, \"%Y-%m-%d\")\n",
    "        year = d1.year\n",
    "        month = d1.month\n",
    "        day = d1.day\n",
    "        \n",
    "        refdate = datetime.datetime(year, month, day)\n",
    "        multi_dates_list = list()\n",
    "        for k in range(multi_time_value,0,-1):\n",
    "            new_refdate = refdate - datetime.timedelta(days=k+fixed_lead_time)  \n",
    "            month = new_refdate.month\n",
    "            days = new_refdate.day\n",
    "            year = new_refdate.year\n",
    "\n",
    "            if len(str(month)) == 1:\n",
    "                month = '0' + str(month)\n",
    "            if len(str(days)) == 1:\n",
    "                days = '0' + str(days)\n",
    "\n",
    "            final_datetime = str(year) + '-' + str(month) + '-' + str(days)\n",
    "            multi_dates_list.append(final_datetime)\n",
    "        modelled_date_multi_dates[datetime_item] = multi_dates_list\n",
    "        \n",
    "    full_scenario_multi_time_dict[str(multi_time_value) + '_day_multi_time_steps'] = modelled_date_multi_dates"
   ]
  },
  {
   "cell_type": "markdown",
   "metadata": {},
   "source": [
    "## 3. Import processed data, followed by data management "
   ]
  },
  {
   "cell_type": "code",
   "execution_count": 7,
   "metadata": {},
   "outputs": [],
   "source": [
    "DEFINE_YOUR_OWN_HDF5_LOC = ''\n",
    "DEFINE_YOUR_SUMMARY_FILES_LOC = ''\n",
    "\n",
    "h5_files_location = DEFINE_YOUR_OWN_HDF5_LOC\n",
    "processed_path_location = DEFINE_YOUR_SUMMARY_FILES_LOC\n",
    "\n",
    "for multi_time_value in multi_time_steps:\n",
    "    for MA_days in MA_day_list:\n",
    "        \n",
    "        data_features_filename = 'Global-R_summary_Jan2020-Oct2021_20features.csv' ## DATA FILE EXTRACTED FROM SHARED FOLDER ##\n",
    "        final_data_features_path = processed_path_location + '/' + data_features_filename\n",
    "        targets_filename = continent + '_G_D_targets.csv'\n",
    "        final_targets_path = processed_path_location + '/' + targets_filename\n",
    "\n",
    "        data_features = pd.read_csv(final_data_features_path)\n",
    "        data_targets = pd.read_csv(final_targets_path)\n",
    "\n",
    "        DATES_DATA_FEATURES = list(data_features['Date'])\n",
    "        DATES_DATA_TARGETS = list(data_targets['Date'])\n",
    "        G_RATE_DATA = list(data_targets['G_rate-' + str(MA_days) + ' days MA'])\n",
    "        D_RATE_DATA = list(data_targets['D_rate-' + str(MA_days) + ' days MA'])\n",
    "\n",
    "        extracted_dates_dict = full_scenario_multi_time_dict[str(multi_time_value) + '_day_multi_time_steps']\n",
    "\n",
    "        G_target_list = list()\n",
    "        D_target_list = list()\n",
    "        x_features_list = list()\n",
    "        ass_G_features_list = list()\n",
    "        ass_D_features_list = list()\n",
    "        x_features_names_dict = dict()\n",
    "        for model_date, features_dates in extracted_dates_dict.items():\n",
    "\n",
    "            target_index = DATES_DATA_TARGETS.index(model_date)\n",
    "            G_target_list.append(G_RATE_DATA[target_index])\n",
    "            D_target_list.append(D_RATE_DATA[target_index])\n",
    "\n",
    "            sub_x_features_names_list = list()\n",
    "            sub_x_features_list = list()\n",
    "            sub_G_features_list = list()\n",
    "            sub_D_features_list = list()\n",
    "            for feature_date in features_dates:\n",
    "                features_index = DATES_DATA_FEATURES.index(feature_date)\n",
    "                extracted_features = list(data_features.iloc[features_index,\n",
    "                                                             1:])\n",
    "                sub_x_features_list.append(extracted_features)\n",
    "\n",
    "                sel_targets_index = DATES_DATA_TARGETS.index(feature_date)\n",
    "                sub_G_features_list.append(G_RATE_DATA[sel_targets_index])\n",
    "                sub_D_features_list.append(D_RATE_DATA[sel_targets_index])\n",
    "                features_names = [name + '_' + feature_date for name in data_features.columns[1:]]\n",
    "                sub_x_features_names_list.append(features_names)\n",
    "\n",
    "            x_features_list.append(sub_x_features_list)\n",
    "            ass_G_features_list.append(sub_G_features_list)\n",
    "            ass_D_features_list.append(sub_D_features_list)\n",
    "            x_features_names_dict[model_date] = sub_x_features_names_list\n",
    "\n",
    "        G_targets_array = np.array(G_target_list).reshape(-1,1)\n",
    "        D_targets_array = np.array(D_target_list).reshape(-1,1)\n",
    "        X_features_array = np.array(x_features_list)\n",
    "        ass_G_features_array = np.array(ass_G_features_list)\n",
    "        ass_D_features_array = np.array(ass_D_features_list)\n",
    "\n",
    "        h5_file = h5py.File(h5_files_location + '/' + continent + '_' + str(multi_time_value) + '_day_multi_time_steps-' \\\n",
    "                            + str(MA_days) + '_days_MA.h5','w')\n",
    "        h5_file.create_dataset('X_array', data=X_features_array )\n",
    "        h5_file.create_dataset('G_array', data=G_targets_array)\n",
    "        h5_file.create_dataset('D_array', data=D_targets_array)\n",
    "        h5_file.create_dataset('ASS_G_array', data=ass_G_features_array)\n",
    "        h5_file.create_dataset('ASS_D_array', data=ass_D_features_array)\n",
    "        h5_file.close()\n",
    "\n",
    "        with open(h5_files_location + '/' + continent + '_' + str(multi_time_value) + '_day_multi_time_steps-' \\\n",
    "                  + str(MA_days) + '_days_MA.json','w') as outfile:\n",
    "            json.dump(x_features_names_dict, outfile)"
   ]
  },
  {
   "cell_type": "code",
   "execution_count": null,
   "metadata": {},
   "outputs": [],
   "source": []
  }
 ],
 "metadata": {
  "kernelspec": {
   "display_name": "Python 3",
   "language": "python",
   "name": "python3"
  },
  "language_info": {
   "codemirror_mode": {
    "name": "ipython",
    "version": 3
   },
   "file_extension": ".py",
   "mimetype": "text/x-python",
   "name": "python",
   "nbconvert_exporter": "python",
   "pygments_lexer": "ipython3",
   "version": "3.7.7"
  }
 },
 "nbformat": 4,
 "nbformat_minor": 4
}
